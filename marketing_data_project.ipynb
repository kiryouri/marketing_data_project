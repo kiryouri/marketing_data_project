{
 "cells": [
  {
   "cell_type": "code",
   "execution_count": null,
   "metadata": {},
   "outputs": [],
   "source": [
    "import pandas as pd\n",
    "import seaborn as sns\n",
    "import matplotlib.pyplot as plt\n",
    "import numpy as np"
   ]
  },
  {
   "cell_type": "code",
   "execution_count": null,
   "metadata": {},
   "outputs": [],
   "source": [
    "marketing_data=pd.read_csv(r'D:\\analdata\\marketing_data.csv')"
   ]
  },
  {
   "cell_type": "code",
   "execution_count": null,
   "metadata": {},
   "outputs": [],
   "source": [
    "marketing_data.isna().sum()\n",
    "#в колонке 'Income' 24 n/a"
   ]
  },
  {
   "cell_type": "code",
   "execution_count": null,
   "metadata": {},
   "outputs": [],
   "source": [
    "#заметно что в тайтлах есть лишние пробелы, используем strip\n",
    "marketing_data=marketing_data.rename(columns=lambda strcols: strcols.strip())\n",
    "marketing_data.info() "
   ]
  },
  {
   "cell_type": "code",
   "execution_count": null,
   "metadata": {},
   "outputs": [],
   "source": [
    "#Income-object, нужно конвертировать в float, перед этим надо будет убрать запятую и знак $\n",
    "marketing_data['Income'] = marketing_data['Income'].str.replace('$', '')\n",
    "marketing_data['Income'] = marketing_data['Income'].str.replace(',', '').astype('float')"
   ]
  },
  {
   "cell_type": "code",
   "execution_count": null,
   "metadata": {},
   "outputs": [],
   "source": [
    "marketing_data.Income=marketing_data.Income.fillna(marketing_data.Income.median()) "
   ]
  },
  {
   "cell_type": "code",
   "execution_count": null,
   "metadata": {},
   "outputs": [],
   "source": [
    "plt.figure(figsize=(12,6))\n",
    "sns.displot(x=marketing_data.Income)\n",
    "\n",
    "# доход +- однороден, есть немного выбросов около 150к и после 650, нагляднее будет видно на боксплоте"
   ]
  },
  {
   "cell_type": "code",
   "execution_count": null,
   "metadata": {},
   "outputs": [],
   "source": [
    "#marketing_data['Income'].plot(kind='box', figsize=(8,6))\n",
    "ax = sns.boxplot(x='Income', data=marketing_data)"
   ]
  },
  {
   "cell_type": "code",
   "execution_count": null,
   "metadata": {},
   "outputs": [],
   "source": [
    "cols=marketing_data[['Year_Birth','Income','NumWebPurchases', 'NumCatalogPurchases', 'NumStorePurchases', 'NumWebVisitsMonth']] #"
   ]
  },
  {
   "cell_type": "code",
   "execution_count": null,
   "metadata": {},
   "outputs": [],
   "source": [
    "#построим боксплоты для количества покупок/годов рождений,содержание покупок нас пока не интересует\n",
    "fig, axes = plt.subplots(2, 3,sharey=True, figsize=(12,6))\n",
    "fig.tight_layout(pad=3.0) #больше расстояния между графиками\n",
    "axes=axes.flatten()\n",
    "fig.suptitle('Boxplots for some numerical data')\n",
    "sns.boxplot(ax=axes[0],x='Year_Birth', data=marketing_data)\n",
    "sns.boxplot(ax=axes[1],x='Income', data=marketing_data)\n",
    "sns.boxplot(ax=axes[2],x='NumWebPurchases', data=marketing_data)\n",
    "sns.boxplot(ax=axes[3],x='NumCatalogPurchases', data=marketing_data)\n",
    "sns.boxplot(ax=axes[4],x='NumStorePurchases', data=marketing_data)\n",
    "sns.boxplot(ax=axes[5],x='NumWebVisitsMonth', data=marketing_data) #пока так, потом подумаю как сделать изящнее"
   ]
  },
  {
   "cell_type": "code",
   "execution_count": null,
   "metadata": {},
   "outputs": [],
   "source": [
    "#На графиках заметны выбросы в годах рождения (скорее всего ошибка ввода), доходах(лишний ноль?), в остальных колонках их можно объяснить постоянностью некоторых покупателей"
   ]
  },
  {
   "cell_type": "code",
   "execution_count": null,
   "metadata": {},
   "outputs": [],
   "source": [
    "#По заданию нужно определить (\"What factors are significantly related to the number of store purchases\"), логически наибольший вклад должен внести доход, больше денег-больше покупок, для подтверждения этой гипотезы воспользуемся простой линейной регрессией"
   ]
  },
  {
   "cell_type": "code",
   "execution_count": null,
   "metadata": {},
   "outputs": [],
   "source": [
    "from sklearn.linear_model import LinearRegression"
   ]
  },
  {
   "cell_type": "code",
   "execution_count": null,
   "metadata": {},
   "outputs": [],
   "source": [
    "x=np.array(marketing_data['Income']).reshape((-1, 1))\n",
    "y=np.array(marketing_data['NumStorePurchases'])\n",
    "model = LinearRegression()"
   ]
  },
  {
   "cell_type": "code",
   "execution_count": null,
   "metadata": {},
   "outputs": [],
   "source": [
    "model.fit(x, y)\n",
    "r_squared = model.score(x, y)\n",
    "print('coefficient of determination:', r_squared)\n",
    "print('intercept:', model.intercept_)\n",
    "print('slope:', model.coef_)"
   ]
  },
  {
   "cell_type": "code",
   "execution_count": null,
   "metadata": {},
   "outputs": [],
   "source": [
    "#действительно, почти треть"
   ]
  },
  {
   "cell_type": "code",
   "execution_count": null,
   "metadata": {},
   "outputs": [],
   "source": [
    "#\"Does US fare significantly better than the Rest of the World in terms of total purchases?\" - для ответа на этот вопрос нужно будет создать новую колонку с суммой всех покупок"
   ]
  },
  {
   "cell_type": "code",
   "execution_count": null,
   "metadata": {},
   "outputs": [],
   "source": [
    "marketing_data['TotalPurchases']=(marketing_data[['NumWebPurchases','NumCatalogPurchases','NumStorePurchases','NumWebVisitsMonth']].sum(axis=1))"
   ]
  },
  {
   "cell_type": "code",
   "execution_count": null,
   "metadata": {},
   "outputs": [],
   "source": [
    "median=marketing_data['TotalPurchases'].median()\n",
    "mean=marketing_data['TotalPurchases'].mean() #среднее арифметическое и медиана +- равны, значит сильных выбросов быть не должно, удостоверимся с помощью дистплота\n",
    "\n",
    "sns.displot(x=marketing_data['TotalPurchases'],color='grey')\n",
    "plt.axvline(median, color='g', linestyle='--')\n",
    "plt.axvline(mean, color='r', linestyle='-')"
   ]
  },
  {
   "cell_type": "code",
   "execution_count": null,
   "metadata": {},
   "outputs": [],
   "source": [
    "marketing_data.groupby('Country',as_index=False).agg({'TotalPurchases':'sum'}).sort_values(by='TotalPurchases',ascending=False).reset_index(drop=True) \n",
    "#По количеству покупок US не в топе "
   ]
  },
  {
   "cell_type": "code",
   "execution_count": null,
   "metadata": {},
   "outputs": [],
   "source": [
    "#аналогично проверим по количеству купленных товаров\n",
    "amount_columns=list(marketing_data.columns[marketing_data.columns.str.startswith('Mnt')])"
   ]
  },
  {
   "cell_type": "code",
   "execution_count": null,
   "metadata": {},
   "outputs": [],
   "source": [
    "marketing_data['TotalAmount']=marketing_data[amount_columns].sum(axis=1)"
   ]
  },
  {
   "cell_type": "code",
   "execution_count": null,
   "metadata": {},
   "outputs": [],
   "source": [
    "marketing_data['TotalAmount']"
   ]
  },
  {
   "cell_type": "code",
   "execution_count": null,
   "metadata": {},
   "outputs": [],
   "source": [
    "marketing_data.groupby('Country',as_index=False).agg({'TotalAmount':'sum'}).sort_values(by='TotalAmount',ascending=False).reset_index(drop=True) \n",
    "#тут тоже не в топе, основная масса покупателей из Испании"
   ]
  },
  {
   "cell_type": "code",
   "execution_count": null,
   "metadata": {},
   "outputs": [],
   "source": [
    "#построим графики для наглядности\n",
    "df_tp=marketing_data.groupby('Country',as_index=False).agg({'TotalPurchases':'sum'}).sort_values(by='TotalPurchases', ascending=False).reset_index(drop=True)\n",
    "df_ta=marketing_data.groupby('Country',as_index=False).agg({'TotalAmount':'sum'}).sort_values(by='TotalAmount', ascending=False).reset_index(drop=True)"
   ]
  },
  {
   "cell_type": "code",
   "execution_count": null,
   "metadata": {},
   "outputs": [],
   "source": [
    "#df_ta_tp_merged=df_tp.merge(df_ta,on='Country')"
   ]
  },
  {
   "cell_type": "code",
   "execution_count": null,
   "metadata": {},
   "outputs": [],
   "source": [
    "df_tp.plot(kind='bar',x='Country')\n",
    "df_ta.plot(kind='bar',x='Country')"
   ]
  },
  {
   "cell_type": "code",
   "execution_count": null,
   "metadata": {},
   "outputs": [],
   "source": [
    "#\"Your supervisor insists that people who buy gold are more conservative.\"\n",
    "#\"Therefore, people who spent an above average amount on gold in the last 2 years would have more in store purchases. Justify or refute this statement using an appropriate statistical test\"\n",
    "#Посмотрим на выбросы\n",
    "sns.boxplot(x='MntGoldProds',data=marketing_data)"
   ]
  },
  {
   "cell_type": "code",
   "execution_count": null,
   "metadata": {},
   "outputs": [],
   "source": [
    "import scipy.stats\n",
    "scipy.stats.spearmanr(marketing_data['MntGoldProds'], marketing_data['TotalPurchases'])\n"
   ]
  },
  {
   "cell_type": "code",
   "execution_count": null,
   "metadata": {},
   "outputs": [],
   "source": [
    "#Есть статистически значимая положительная корреляция\n",
    "sns.lmplot(x='MntGoldProds', y='TotalPurchases', data = marketing_data);"
   ]
  },
  {
   "cell_type": "code",
   "execution_count": null,
   "metadata": {},
   "outputs": [],
   "source": [
    "#Fish has Omega 3 fatty acids which are good for the brain. Accordingly, do \"Married PhD candidates\" have a significant relation with amount spent on fish?\n",
    "\n",
    "marketing_data[['Marital_Status','Education']]\n",
    "marketing_data.Education.unique()\n",
    "\n",
    "#Отфильтруем подходящих под \"Married PhD candidates\" покупателей\n",
    "married_and_phd_fish=marketing_data.query('Marital_Status==\"Married\" and Education==\"PhD\"')['MntFishProducts']\n",
    "married_and_not_phd=marketing_data.query('Marital_Status!=\"Married\" and Education!=\"PhD\"')['MntFishProducts']\n",
    "\n",
    "#в среднем женатые и Phd покупают меньше рыбы, стат значимость проверим далее\n",
    "\n",
    "from scipy import stats\n",
    "stats.shapiro(married_and_phd_fish)\n",
    "\n",
    "married_and_phd_fish.plot()\n",
    "#H0 - в генеральной совокупности женатые и phd покупают столько же рыбопродуктов сколько и не таковые"
   ]
  },
  {
   "cell_type": "code",
   "execution_count": null,
   "metadata": {},
   "outputs": [],
   "source": [
    "u, p_value = stats.mannwhitneyu(married_and_phd_fish, married_and_not_phd)\n",
    "print (\"two-sample wilcoxon-test\", p_value)"
   ]
  },
  {
   "cell_type": "code",
   "execution_count": null,
   "metadata": {},
   "outputs": [],
   "source": [
    "#Можно отклонить нулевую гипотезу, статистически значимое отличие действительно присутствует\n"
   ]
  },
  {
   "cell_type": "code",
   "execution_count": null,
   "metadata": {},
   "outputs": [],
   "source": []
  },
  {
   "cell_type": "code",
   "execution_count": null,
   "metadata": {},
   "outputs": [],
   "source": [
    "#to be continued.."
   ]
  }
 ],
 "metadata": {
  "kernelspec": {
   "display_name": "Python 3",
   "language": "python",
   "name": "python3"
  },
  "language_info": {
   "codemirror_mode": {
    "name": "ipython",
    "version": 3
   },
   "file_extension": ".py",
   "mimetype": "text/x-python",
   "name": "python",
   "nbconvert_exporter": "python",
   "pygments_lexer": "ipython3",
   "version": "3.7.2"
  }
 },
 "nbformat": 4,
 "nbformat_minor": 4
}
